{
 "cells": [
  {
   "cell_type": "markdown",
   "metadata": {},
   "source": [
    "# Using Python for Research Homework: Week 2\n",
    "\n",
    "In this homework, we will use the tools we've covered in the past two weeks to create a tic-tac-toe (noughts and crosses) simulator and evaluate basic winning strategies."
   ]
  },
  {
   "cell_type": "markdown",
   "metadata": {},
   "source": [
    "### Exercise 1\n",
    "\n",
    "Tic-tac-toe (or noughts and crosses) is a simple strategy game in which two players take turns placing a mark on a 3x3 board, attempting to make a row, column, or diagonal of three with their mark. In this homework, we will use the tools we've covered in the past two weeks to create a tic-tac-toe simulator and evaluate basic winning strategies.\n",
    "\n",
    "In the following exercises, we will learn to create a tic-tac-toe board, place markers on the board, evaluate if either player has won, and use this to simulate two basic strategies.\n",
    "\n",
    "#### Instructions \n",
    "\n",
    "- For our tic-tac-toe board, we will use a numpy array with dimension 3 by 3. \n",
    "- Make a function `create_board()` that creates such a board with the value of each cell set to the integer `0`.\n",
    "- Call `create_board()` and store it."
   ]
  },
  {
   "cell_type": "code",
   "execution_count": 2,
   "metadata": {},
   "outputs": [],
   "source": [
    "import numpy as np\n",
    "\n",
    "def create_board():\n",
    "    return np.zeros((3,3))\n"
   ]
  },
  {
   "cell_type": "markdown",
   "metadata": {},
   "source": [
    "### Exercise 2\n",
    "\n",
    "Players 1 and 2 will take turns changing values of this array from a 0 to a 1 or 2, indicating the number of the player who places a marker there.\n",
    "\n",
    "#### Instructions \n",
    "\n",
    "- Create a function `place(board, player, position)`, where:\n",
    "    - `player` is the current player (an integer 1 or 2).\n",
    "    - `position` is a tuple of length 2 specifying a desired location to place their marker.\n",
    "    - Your function should only allow the current player to place a marker on the board (change the board position to their number) if that position is empty (zero).\n",
    "- Use `create_board()` to store a board as `board`, and use `place` to have Player 1 place a marker on location `(0, 0)`."
   ]
  },
  {
   "cell_type": "code",
   "execution_count": 3,
   "metadata": {},
   "outputs": [],
   "source": [
    "def place(board, player, position):\n",
    "    r_index, c_index = position\n",
    "\n",
    "    if board[r_index][c_index] == 0:\n",
    "        board[r_index][c_index] = player\n",
    "\n",
    "board = create_board()\n",
    "place(board, 1, (0,0))\n"
   ]
  },
  {
   "cell_type": "markdown",
   "metadata": {},
   "source": [
    "### Exercise 3\n",
    "\n",
    "In this exercise, we will determine which positions are available to either player for placing their marker.\n",
    "\n",
    "#### Instructions \n",
    "- Create a function `possibilities(board)` that returns a list of all positions (tuples) on the board that are not occupied (0). (Hint: `numpy.where` is a handy function that returns a list of indices that meet a condition.)\n",
    "- `board` is already defined from previous exercises. Call `possibilities(board)` to see what it returns!"
   ]
  },
  {
   "cell_type": "code",
   "execution_count": 4,
   "metadata": {},
   "outputs": [
    {
     "data": {
      "text/plain": [
       "[(0, 1), (0, 2), (1, 0), (1, 1), (1, 2), (2, 0), (2, 1), (2, 2)]"
      ]
     },
     "execution_count": 4,
     "metadata": {},
     "output_type": "execute_result"
    }
   ],
   "source": [
    "def possibilities(board):\n",
    "    results = []\n",
    "    indices = np.where(board == 0)\n",
    "\n",
    "    for index, r_index in enumerate(indices[0]):\n",
    "        c_index = indices[1][index]\n",
    "        \n",
    "        position = (r_index, c_index)\n",
    "\n",
    "        results.append(position)\n",
    "\n",
    "    return results\n",
    "\n",
    "possibilities(board)\n",
    "\n"
   ]
  },
  {
   "cell_type": "markdown",
   "metadata": {},
   "source": [
    "### Exercise 4\n",
    "\n",
    "The next step is for the current player to place a marker among the available positions. In this exercise, we will select an available board position at random and place a marker there.\n",
    "\n",
    "#### Instructions \n",
    "\n",
    "- Write a function `random_place(board, player)` that places a marker for the current player at random among all the available positions (those currently set to 0).\n",
    "    - Find possible placements with `possibilities(board)`.\n",
    "    - Select one possible placement at random using `random.choice(selection)`.\n",
    "- `board` is already defined from previous exercises. Call `random_place(board, player)` to place a random marker for Player 2, and store this as board to update its value."
   ]
  },
  {
   "cell_type": "code",
   "execution_count": 5,
   "metadata": {},
   "outputs": [
    {
     "name": "stdout",
     "output_type": "stream",
     "text": [
      "[[1. 0. 0.]\n",
      " [2. 0. 0.]\n",
      " [0. 0. 0.]]\n"
     ]
    }
   ],
   "source": [
    "import random \n",
    "random.seed(1)\n",
    "\n",
    "def random_place(board, player):\n",
    "    position = random.choice(possibilities(board))\n",
    "    place(board, player, position)\n",
    "\n",
    "random_place(board,2)\n",
    "print(board)\n"
   ]
  },
  {
   "cell_type": "markdown",
   "metadata": {},
   "source": [
    "### Exercise 5\n",
    "\n",
    "We will now have both players place three markers each.\n",
    "\n",
    "#### Instructions \n",
    "\n",
    "- A new `board` is already given. Call `random_place(board, player)` to place three pieces each on board for players 1 and 2.\n",
    "- Print board to see your result."
   ]
  },
  {
   "cell_type": "code",
   "execution_count": 6,
   "metadata": {},
   "outputs": [
    {
     "name": "stdout",
     "output_type": "stream",
     "text": [
      "[[2. 2. 1.]\n",
      " [0. 1. 0.]\n",
      " [0. 1. 2.]]\n"
     ]
    }
   ],
   "source": [
    "random.seed(1)\n",
    "board = create_board()\n",
    "piece_count = 0\n",
    "\n",
    "while piece_count < 6:\n",
    "    if piece_count % 2 == 0:\n",
    "        random_place(board, 1)\n",
    "        piece_count += 1\n",
    "    else:\n",
    "        random_place(board, 2)\n",
    "        piece_count += 1\n",
    "\n",
    "print(board)\n"
   ]
  },
  {
   "cell_type": "markdown",
   "metadata": {},
   "source": [
    "### Exercise 6\n",
    "\n",
    "In the next few exercises, we will make functions that check whether either player has won the game.\n",
    "\n",
    "#### Instructions \n",
    "- Make a function `row_win(board, player)` that takes the player (integer) and determines if any row consists of only their marker. \n",
    "    - Have it return `True` if this condition is met and `False` otherwise.\n",
    "- `board` is already defined from previous exercises. Call `row_win` to check if Player 1 has a complete row."
   ]
  },
  {
   "cell_type": "code",
   "execution_count": 7,
   "metadata": {},
   "outputs": [
    {
     "data": {
      "text/plain": [
       "False"
      ]
     },
     "execution_count": 7,
     "metadata": {},
     "output_type": "execute_result"
    }
   ],
   "source": [
    "def row_win(board, player):\n",
    "    for row in board:\n",
    "        for value in row:\n",
    "            if player != value:\n",
    "                return False\n",
    "\n",
    "        return True\n",
    "\n",
    "row_win(board, 1)"
   ]
  },
  {
   "cell_type": "markdown",
   "metadata": {},
   "source": [
    "### Exercise 7\n",
    "\n",
    "In the next few exercises, we will make functions that verify if either player has won the game.\n",
    "\n",
    "#### Instructions \n",
    "- Make a function `col_win(board, player)` that takes the player (integer) and determines if any column consists of only their marker. \n",
    "    - Have it return `True` if this condition is met and `False` otherwise.\n",
    "- `board` is already defined from previous exercises. Call `col_win` to check if Player 1 has a complete row."
   ]
  },
  {
   "cell_type": "code",
   "execution_count": 8,
   "metadata": {},
   "outputs": [
    {
     "data": {
      "text/plain": [
       "False"
      ]
     },
     "execution_count": 8,
     "metadata": {},
     "output_type": "execute_result"
    }
   ],
   "source": [
    "def col_win(board, player):\n",
    "    t_board = np.transpose(board)\n",
    "\n",
    "    return row_win(t_board, player)\n",
    "\n",
    "col_win(board, 1)"
   ]
  },
  {
   "cell_type": "markdown",
   "metadata": {},
   "source": [
    "### Exercise 8\n",
    "\n",
    "In the next few exercises, we will make functions that verify if either player has won the game.\n",
    "\n",
    "#### Instructions \n",
    "- Finally, create a function `diag_win(board, player)` that tests if either diagonal of the board consists of only their marker. Have it return `True` if this condition is met, and `False` otherwise.\n",
    "- `board` has been slightly modified from a previous exercise. Call `diag_win` to check if Player 2 has a complete diagonal."
   ]
  },
  {
   "cell_type": "code",
   "execution_count": 9,
   "metadata": {},
   "outputs": [
    {
     "data": {
      "text/plain": [
       "True"
      ]
     },
     "execution_count": 9,
     "metadata": {},
     "output_type": "execute_result"
    }
   ],
   "source": [
    "board[1,1] = 2\n",
    "\n",
    "def diag_win(board, player):\n",
    "    diag = [[(0,0), (1,1), (2,2)], [(0,2), (1,1), (2,0)]]\n",
    "    \n",
    "    for profile in diag:\n",
    "        count = 0\n",
    "        \n",
    "        for position in profile:\n",
    "            x, y = position\n",
    "            if player == board[x][y]:\n",
    "                count += 1\n",
    "\n",
    "        if count == 3:\n",
    "            return True\n",
    "\n",
    "    return False\n",
    "\n",
    "diag_win(board, 2)\n",
    "            "
   ]
  },
  {
   "cell_type": "markdown",
   "metadata": {},
   "source": [
    "### Exercise 9\n",
    "\n",
    "In the next few exercises, we will make functions that check whether either player has won the game.\n",
    "\n",
    "#### Instructions \n",
    "- Create a function `evaluate(board)` that uses `row_win`, `col_win`, and `diag_win` functions for both players. If one of them has won, return that player's number. If the board is full but no one has won, return -1. Otherwise, return 0.\n",
    "- `board` is already defined from previous exercises. Call evaluate to see if either player has won the game yet."
   ]
  },
  {
   "cell_type": "code",
   "execution_count": 10,
   "metadata": {},
   "outputs": [
    {
     "data": {
      "text/plain": [
       "2"
      ]
     },
     "execution_count": 10,
     "metadata": {},
     "output_type": "execute_result"
    }
   ],
   "source": [
    "def evaluate(board):\n",
    "    winner = 0\n",
    "    for player in [1, 2]:\n",
    "        if row_win(board, player) or col_win(board, player) or diag_win(board, player):\n",
    "            return player\n",
    "    if np.all(board != 0) and winner == 0:\n",
    "        winner = -1\n",
    "    return winner\n",
    "\n",
    "evaluate(board)"
   ]
  },
  {
   "cell_type": "markdown",
   "metadata": {},
   "source": [
    "### Exercise 10\n",
    "\n",
    "In this exercise, we will use all the functions we have made to simulate an entire game.\n",
    "\n",
    "#### Instructions \n",
    "\n",
    "- `create_board()`, `random_place(board, player)`, and `evaluate(board)` have been created in previous exercises. Create a function `play_game()` that:\n",
    "    - Creates a board.\n",
    "    - Alternates taking turns between two players (beginning with Player 1), placing a marker during each turn.\n",
    "    - Evaluates the board for a winner after each placement.\n",
    "    - Continues the game until one player wins (returning 1 or 2 to reflect the winning player), or the game is a draw (returning -1).\n",
    "- Call play_game 1000 times, and store the results of the game in a list called `results`."
   ]
  },
  {
   "cell_type": "code",
   "execution_count": 11,
   "metadata": {},
   "outputs": [
    {
     "data": {
      "text/plain": [
       "411"
      ]
     },
     "execution_count": 11,
     "metadata": {},
     "output_type": "execute_result"
    }
   ],
   "source": [
    "random.seed(1)\n",
    "\n",
    "'''\n",
    "def play_game():\n",
    "    board = create_board()\n",
    "    moves_made = 0\n",
    "    \n",
    "    while evaluate(board) == 0:\n",
    "        if moves_made % 2 == 0:\n",
    "            random_place(board, 1)\n",
    "            moves_made += 1\n",
    "        else:\n",
    "            random_place(board, 2)\n",
    "            moves_made += 1\n",
    "\n",
    "    return evaluate(board)\n",
    "\n",
    "results = [play_game() for i in range(1000)]\n",
    "\n",
    "results.count(1)\n",
    "'''"
   ]
  },
  {
   "cell_type": "code",
   "execution_count": null,
   "metadata": {},
   "outputs": [],
   "source": []
  },
  {
   "cell_type": "markdown",
   "metadata": {},
   "source": [
    "#### Exercise 11\n",
    "\n",
    "In the previous exercise, we see that when guessing at random, it's better to go first, as expected. Let's see if Player 1 can improve their strategy. \n",
    "\n",
    "#### Instructions \n",
    "- Create a function `play_strategic_game()`, where Player 1 always starts with the middle square, and otherwise both players place their markers randomly.\n",
    "- Call `play_strategic_game` 1000 times."
   ]
  },
  {
   "cell_type": "code",
   "execution_count": 12,
   "metadata": {},
   "outputs": [
    {
     "name": "stdout",
     "output_type": "stream",
     "text": [
      "[2, -1, 1, 1, -1, 2, -1, -1, 1, -1, 2, -1, -1, 1, 1, -1, 2, -1, -1, 1, -1, 1, -1, 2, 1, -1, -1, 1, -1, 1, 2, 1, -1, 1, -1, 2, -1, 1, 1, 2, 1, 1, 1, 1, -1, 2, 1, -1, -1, 1, 2, 1, 1, -1, 1, 2, -1, 1, -1, 1, 1, 1, 1, -1, -1, 1, -1, -1, -1, 1, 1, 1, 2, -1, 1, 1, 1, 1, 2, 1, -1, 2, 1, 1, 1, 2, -1, 1, 2, -1, 2, 1, -1, 2, -1, 1, 2, -1, -1, 1, 1, -1, -1, -1, 1, 1, 1, -1, -1, -1, 1, 1, -1, 1, 2, 1, 1, 1, 1, 1, 2, 1, 1, 1, 1, 2, -1, 1, -1, -1, 1, -1, 1, 2, 2, 1, -1, -1, 2, 2, 1, 1, 1, 2, 1, 1, 1, 1, -1, 1, 1, 1, -1, 1, -1, 1, 1, 1, 1, 2, -1, 1, 1, -1, -1, 1, -1, -1, -1, 1, 1, -1, -1, 1, -1, 1, 1, -1, 1, -1, 2, -1, 1, 1, -1, 1, -1, -1, 1, 2, -1, 2, -1, -1, 1, 1, 1, 1, 2, -1, 2, 1, 1, 1, -1, 2, 1, 2, -1, 1, 2, 1, 2, 1, 2, 1, 1, 1, 1, -1, 1, 1, 1, -1, -1, 1, 1, -1, -1, 1, 1, 1, 1, 1, 1, -1, 1, 1, 1, 1, 2, -1, 1, -1, 1, -1, -1, 1, -1, 1, -1, -1, 1, -1, -1, -1, -1, -1, 2, -1, 1, 1, -1, 1, -1, -1, 1, 1, -1, 1, -1, 2, 1, -1, 1, 1, 1, -1, -1, 1, 2, 2, 2, 1, 2, 1, 1, -1, 1, -1, -1, -1, -1, -1, -1, -1, 1, 1, 2, -1, 1, 1, -1, 1, 1, 1, 1, 1, 1, -1, -1, 1, 2, 1, 1, 1, -1, 2, 1, 1, 1, 1, 1, 1, 1, -1, 2, 1, -1, -1, 1, -1, 1, 1, 2, 1, -1, 1, -1, -1, 1, 2, 1, 1, 1, -1, -1, 1, 2, -1, 1, -1, 1, -1, 1, 1, 1, 1, -1, 1, 1, 2, -1, -1, -1, 1, 1, 2, 1, 1, 1, 1, -1, -1, 1, -1, -1, 2, -1, -1, 2, 1, 1, 1, -1, 1, 1, 2, -1, 2, 1, 2, -1, 1, -1, -1, 1, -1, 1, -1, 1, -1, 1, 1, 1, -1, 1, 2, 1, 1, 1, 1, -1, -1, -1, 1, 1, 1, 2, 1, -1, 1, 1, 2, 1, 1, 1, 1, 1, 1, 1, 1, 1, 1, 1, 2, 1, 2, 1, 1, -1, 1, -1, 1, 1, 1, 1, 1, 2, -1, -1, -1, -1, -1, -1, -1, 1, -1, 1, 1, 2, 2, -1, 2, -1, 1, 1, 1, 1, 2, 1, 1, -1, 1, 1, 1, -1, 2, 1, -1, -1, 1, 1, 1, -1, 1, -1, -1, 1, 1, -1, 2, 1, 1, 1, 1, 1, 1, -1, -1, 1, -1, -1, 1, 1, -1, 1, 2, 1, -1, -1, -1, 1, 2, -1, 1, 2, 1, 1, 1, -1, 1, 1, 1, 1, -1, -1, -1, -1, 2, 1, -1, 1, 1, 1, 1, -1, 2, 1, 1, -1, -1, 1, 1, -1, -1, 1, 1, -1, 1, -1, 1, 1, 1, 1, 2, 1, -1, -1, 1, 1, -1, 1, 1, -1, 2, 1, -1, 1, -1, -1, 1, 2, 1, -1, 1, -1, -1, 1, 1, 1, 1, 2, 1, 1, -1, 2, -1, 1, 1, 1, 1, 1, -1, -1, 1, -1, -1, 1, 1, 2, 1, 1, 1, -1, 1, -1, -1, 2, -1, -1, 2, 2, -1, 1, -1, -1, -1, 1, 2, 1, -1, 1, -1, -1, 1, 1, 1, 1, -1, 1, -1, 1, 1, -1, -1, -1, 1, -1, -1, 1, 1, -1, -1, 1, 1, 1, 2, -1, -1, 1, -1, 1, -1, 1, 1, 1, -1, 1, -1, 1, -1, -1, -1, -1, 1, -1, -1, 1, 1, 1, -1, -1, -1, 1, 2, -1, -1, 2, 1, -1, 1, 1, -1, -1, -1, 2, 1, 2, 1, -1, 1, 1, 1, -1, -1, -1, 2, 2, 1, -1, 1, 1, 2, -1, 1, 1, -1, 2, 2, -1, -1, 1, -1, -1, 2, 2, 1, 1, -1, 1, -1, -1, 2, 2, 1, -1, 1, -1, 1, 1, 1, -1, -1, -1, 1, -1, 1, 1, 1, -1, -1, 1, 1, -1, 1, 1, 2, -1, -1, 1, -1, -1, 1, 1, -1, 2, 1, 2, -1, 1, -1, 1, 1, 1, -1, 2, 1, -1, 1, 1, -1, -1, -1, -1, 1, 1, -1, 2, -1, -1, 1, 1, 1, -1, 2, 1, 1, 1, -1, -1, -1, -1, 1, -1, -1, -1, 1, 2, 1, 1, -1, 1, 1, -1, 1, 1, -1, 1, 1, 1, -1, -1, -1, 1, -1, -1, -1, 1, 1, 1, 2, -1, 1, -1, 1, 1, 2, -1, -1, 2, -1, -1, 1, 1, 1, -1, -1, 1, -1, 1, 1, 1, 1, 1, -1, -1, 1, 1, 1, -1, -1, 2, -1, 1, 2, -1, -1, -1, -1, 2, 2, 1, 1, 1, -1, -1, 2, -1, 1, -1, 1, 1, -1, 1, -1, -1, 2, 1, 1, 2, 1, -1, 1, 2, -1, -1, 2, 1, -1, 2, 1, 1, -1, 1, -1, -1, 1, -1, 2, 1, 1, 1, -1, -1, 1, 1, 1, 1, 2, -1, 2, 1, -1, 1, 1, 2, -1, 1, -1, 2, 2, -1, 1, -1, 2, 2, 1, -1, 2, 1, -1, -1, -1, 1, 1, 2, -1, 1, -1, 2, 1, 1, 1, -1, 2, 1, 1, -1, 1, 1, 1, -1, -1, 1, 1, 1, -1, 1, 1, 1, 1, -1, 1, 1, 2, 1, 2, 2, -1, -1, -1, 2, -1, -1, -1, 1, -1, 1, -1, 1, -1, 1, -1, 1, 1, -1, 1, -1, 1, 1, 2, 1, 1, -1, 1, 1, 1, 1, 1]\n"
     ]
    },
    {
     "data": {
      "text/plain": [
       "492"
      ]
     },
     "execution_count": 12,
     "metadata": {},
     "output_type": "execute_result"
    }
   ],
   "source": [
    "random.seed(1)\n",
    "\n",
    "def continue_game(board):\n",
    "    # figure out player\n",
    "    non_zero = np.where(board != 0)\n",
    "\n",
    "    moves_made = len(non_zero[0])\n",
    "    \n",
    "    while evaluate(board) == 0:\n",
    "        if moves_made % 2 == 0:\n",
    "            random_place(board, 1)\n",
    "            moves_made += 1\n",
    "        else:\n",
    "            random_place(board, 2)\n",
    "            moves_made += 1\n",
    "\n",
    "    return evaluate(board)\n",
    "    \n",
    "def play_strategic_game():\n",
    "    board = create_board()\n",
    "    board[1][1] = 1\n",
    "\n",
    "    return continue_game(board)\n",
    "\n",
    "result = []\n",
    "\n",
    "for i in range(1000):\n",
    "    result.append(play_strategic_game())\n",
    "\n",
    "print(result)\n",
    "result.count(1)"
   ]
  },
  {
   "cell_type": "code",
   "execution_count": 14,
   "metadata": {},
   "outputs": [
    {
     "data": {
      "text/plain": [
       "411"
      ]
     },
     "execution_count": 14,
     "metadata": {},
     "output_type": "execute_result"
    }
   ],
   "source": [
    "random.seed(1)\n",
    "\n",
    "def play_game():\n",
    "    board = create_board()\n",
    "    current_player = 1\n",
    "    \n",
    "    while True:\n",
    "        random_place(board, current_player)\n",
    "        result = evaluate(board)\n",
    "        \n",
    "        if result != 0:  # Game has ended\n",
    "            return result\n",
    "        \n",
    "        # Switch player\n",
    "        current_player = 2 if current_player == 1 else 1\n",
    "\n",
    "results = [play_game() for i in range(1000)]\n",
    "\n",
    "results.count(1)"
   ]
  },
  {
   "cell_type": "code",
   "execution_count": null,
   "metadata": {},
   "outputs": [],
   "source": []
  }
 ],
 "metadata": {
  "kernelspec": {
   "display_name": "anaconda-panel-2023.05-py310",
   "language": "python",
   "name": "conda-env-anaconda-panel-2023.05-py310-py"
  },
  "language_info": {
   "codemirror_mode": {
    "name": "ipython",
    "version": 3
   },
   "file_extension": ".py",
   "mimetype": "text/x-python",
   "name": "python",
   "nbconvert_exporter": "python",
   "pygments_lexer": "ipython3",
   "version": "3.11.5"
  }
 },
 "nbformat": 4,
 "nbformat_minor": 4
}
